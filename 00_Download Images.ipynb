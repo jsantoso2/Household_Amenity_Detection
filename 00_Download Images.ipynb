{
 "cells": [
  {
   "cell_type": "code",
   "execution_count": 1,
   "metadata": {},
   "outputs": [],
   "source": [
    "import pandas as pd\n",
    "import numpy as np\n",
    "import matplotlib.pyplot as plt\n",
    "import os"
   ]
  },
  {
   "cell_type": "code",
   "execution_count": 2,
   "metadata": {},
   "outputs": [],
   "source": [
    "orig_airbnb_classes = ['Bed', 'Billiard_table', 'Swimming_pool', 'Toilet', \n",
    "                  'Fountain', 'Sink', 'Television', 'Ceiling_fan', \n",
    "                  'Microwave_oven', 'Bathtub', 'Washing_machine', 'Refrigerator',\n",
    "                  'Shower', 'Oven', 'Pillow', 'Couch', 'Kitchen_&_dining_room_table',\n",
    "                  'Mirror', 'Stairs', 'Fireplace', 'Gas_stove', 'Coffeemaker',\n",
    "                  'Dishwasher', 'Wine_rack', 'Sofa_bed', 'Countertop', 'Towel',\n",
    "                  'Porch', 'Tree_house', 'Jacuzzi']\n",
    "orig_airbnb_classes = set(orig_airbnb_classes)"
   ]
  },
  {
   "cell_type": "code",
   "execution_count": 3,
   "metadata": {},
   "outputs": [
    {
     "data": {
      "text/plain": [
       "30"
      ]
     },
     "execution_count": 3,
     "metadata": {},
     "output_type": "execute_result"
    }
   ],
   "source": [
    "len(orig_airbnb_classes)"
   ]
  },
  {
   "cell_type": "code",
   "execution_count": 4,
   "metadata": {},
   "outputs": [
    {
     "data": {
      "text/html": [
       "<div>\n",
       "<style scoped>\n",
       "    .dataframe tbody tr th:only-of-type {\n",
       "        vertical-align: middle;\n",
       "    }\n",
       "\n",
       "    .dataframe tbody tr th {\n",
       "        vertical-align: top;\n",
       "    }\n",
       "\n",
       "    .dataframe thead th {\n",
       "        text-align: right;\n",
       "    }\n",
       "</style>\n",
       "<table border=\"1\" class=\"dataframe\">\n",
       "  <thead>\n",
       "    <tr style=\"text-align: right;\">\n",
       "      <th></th>\n",
       "      <th>Code</th>\n",
       "      <th>Labels</th>\n",
       "    </tr>\n",
       "  </thead>\n",
       "  <tbody>\n",
       "    <tr>\n",
       "      <th>0</th>\n",
       "      <td>/m/011k07</td>\n",
       "      <td>Tortoise</td>\n",
       "    </tr>\n",
       "    <tr>\n",
       "      <th>1</th>\n",
       "      <td>/m/011q46kg</td>\n",
       "      <td>Container</td>\n",
       "    </tr>\n",
       "    <tr>\n",
       "      <th>2</th>\n",
       "      <td>/m/012074</td>\n",
       "      <td>Magpie</td>\n",
       "    </tr>\n",
       "    <tr>\n",
       "      <th>3</th>\n",
       "      <td>/m/0120dh</td>\n",
       "      <td>Sea turtle</td>\n",
       "    </tr>\n",
       "    <tr>\n",
       "      <th>4</th>\n",
       "      <td>/m/01226z</td>\n",
       "      <td>Football</td>\n",
       "    </tr>\n",
       "  </tbody>\n",
       "</table>\n",
       "</div>"
      ],
      "text/plain": [
       "          Code      Labels\n",
       "0    /m/011k07    Tortoise\n",
       "1  /m/011q46kg   Container\n",
       "2    /m/012074      Magpie\n",
       "3    /m/0120dh  Sea turtle\n",
       "4    /m/01226z    Football"
      ]
     },
     "execution_count": 4,
     "metadata": {},
     "output_type": "execute_result"
    }
   ],
   "source": [
    "# read open images labels\n",
    "df = pd.read_csv('open_images_unique_labels.csv', header = None)\n",
    "df.columns = ['Code', 'Labels']\n",
    "df.head()"
   ]
  },
  {
   "cell_type": "code",
   "execution_count": 5,
   "metadata": {},
   "outputs": [
    {
     "name": "stdout",
     "output_type": "stream",
     "text": [
      "Intersection classes length:  20\n",
      "Not_found:  {'Wine_rack', 'Washing_machine', 'Sofa_bed', 'Kitchen_&_dining_room_table', 'Ceiling_fan', 'Swimming_pool', 'Microwave_oven', 'Billiard_table', 'Tree_house', 'Gas_stove'}\n"
     ]
    }
   ],
   "source": [
    "open_images_classes = set(df['Labels'])\n",
    "\n",
    "# intersection between 2 classes\n",
    "intersection  = orig_airbnb_classes.intersection(open_images_classes)\n",
    "print('Intersection classes length: ', len(intersection))\n",
    "\n",
    "# not found in open_images labels\n",
    "not_found = orig_airbnb_classes.difference(intersection)\n",
    "print('Not_found: ', not_found)"
   ]
  },
  {
   "cell_type": "code",
   "execution_count": 6,
   "metadata": {},
   "outputs": [],
   "source": [
    "# replace _ with ' ' to match open images labels\n",
    "mod_airbnb_classes = set()\n",
    "\n",
    "for elem in orig_airbnb_classes:\n",
    "    splits = elem.split('_')\n",
    "    if len(splits) == 1:\n",
    "        mod_airbnb_classes.add(splits[0])\n",
    "    else:\n",
    "        word = ''\n",
    "        for elem2 in splits:\n",
    "            word += elem2 + ' '\n",
    "        mod_airbnb_classes.add(word.strip())"
   ]
  },
  {
   "cell_type": "code",
   "execution_count": 7,
   "metadata": {},
   "outputs": [
    {
     "name": "stdout",
     "output_type": "stream",
     "text": [
      "Intersection classes length:  30\n",
      "Not_found:  set()\n"
     ]
    }
   ],
   "source": [
    "# check again if all classes exist after preprocessing\n",
    "# intersection between 2 classes\n",
    "intersection  = mod_airbnb_classes.intersection(open_images_classes)\n",
    "print('Intersection classes length: ', len(intersection))\n",
    "\n",
    "# not found in open_images labels\n",
    "not_found = mod_airbnb_classes.difference(intersection)\n",
    "print('Not_found: ', not_found)"
   ]
  },
  {
   "cell_type": "code",
   "execution_count": 8,
   "metadata": {},
   "outputs": [
    {
     "data": {
      "text/plain": [
       "{'Bathtub',\n",
       " 'Bed',\n",
       " 'Billiard table',\n",
       " 'Ceiling fan',\n",
       " 'Coffeemaker',\n",
       " 'Couch',\n",
       " 'Countertop',\n",
       " 'Dishwasher',\n",
       " 'Fireplace',\n",
       " 'Fountain',\n",
       " 'Gas stove',\n",
       " 'Jacuzzi',\n",
       " 'Kitchen & dining room table',\n",
       " 'Microwave oven',\n",
       " 'Mirror',\n",
       " 'Oven',\n",
       " 'Pillow',\n",
       " 'Porch',\n",
       " 'Refrigerator',\n",
       " 'Shower',\n",
       " 'Sink',\n",
       " 'Sofa bed',\n",
       " 'Stairs',\n",
       " 'Swimming pool',\n",
       " 'Television',\n",
       " 'Toilet',\n",
       " 'Towel',\n",
       " 'Tree house',\n",
       " 'Washing machine',\n",
       " 'Wine rack'}"
      ]
     },
     "execution_count": 8,
     "metadata": {},
     "output_type": "execute_result"
    }
   ],
   "source": [
    "mod_airbnb_classes  #this labels will be used to download images from open_images"
   ]
  },
  {
   "cell_type": "markdown",
   "metadata": {},
   "source": [
    "To Download OpenImages: https://github.com/EscVM/OIDv4_ToolKit <br/>\n",
    "Command: python main.py downloader --classes Apple Orange --type_csv validation"
   ]
  },
  {
   "cell_type": "code",
   "execution_count": 9,
   "metadata": {},
   "outputs": [],
   "source": [
    "### ADDED IN bounding_boxes.py to download Kitchen & dining room table (Line 43)\n",
    "## ADD KITCHEN & DINING\n",
    "# for ind, arg in enumerate(args.classes):\n",
    "#     if ('Kitchen' in arg) and ('dining' in arg):\n",
    "#         args.classes[ind] = 'Kitchen & dining room table'"
   ]
  },
  {
   "cell_type": "code",
   "execution_count": 10,
   "metadata": {},
   "outputs": [
    {
     "name": "stdout",
     "output_type": "stream",
     "text": [
      "Bathtub Bed Billiard_table Ceiling_fan Coffeemaker Couch Countertop Dishwasher Fireplace Fountain Gas_stove Jacuzzi Kitchen_dining_room_table Microwave_oven Mirror Oven Pillow Porch Refrigerator Shower Sink Sofa_bed Stairs Swimming_pool Television Toilet Towel Tree_house Washing_machine Wine_rack "
     ]
    }
   ],
   "source": [
    "# replace the & sign with nothing\n",
    "download = [i.replace('&', '') for i in mod_airbnb_classes]\n",
    "# need to convert spaces with _\n",
    "download = [i.replace(' ', '_') for i in download]\n",
    "download = [i.replace('__', '_') for i in download]\n",
    "\n",
    "download.sort()\n",
    "\n",
    "# print to download images\n",
    "for elem in download:\n",
    "    print(elem, end=' ')"
   ]
  },
  {
   "cell_type": "markdown",
   "metadata": {},
   "source": [
    "Command: python main.py downloader --classes Bathtub Bed Billiard_table Ceiling_fan Coffeemaker Couch Countertop Dishwasher Fireplace Fountain Gas_stove Jacuzzi Kitchen_dining_room_table Microwave_oven Mirror Oven Pillow Porch Refrigerator Shower Sink Sofa_bed Stairs Swimming_pool Television Toilet Towel Tree_house Washing_machine Wine_rack --type_csv train <br/>\n",
    "\n",
    "Command: python main.py downloader --classes Bathtub Bed Billiard_table Ceiling_fan Coffeemaker Couch Countertop Dishwasher Fireplace Fountain Gas_stove Jacuzzi Kitchen_dining_room_table Microwave_oven Mirror Oven Pillow Porch Refrigerator Shower Sink Sofa_bed Stairs Swimming_pool Television Toilet Towel Tree_house Washing_machine Wine_rack --type_csv validation <br/>\n",
    "\n",
    "Command: python main.py downloader --classes Bathtub Bed Billiard_table Ceiling_fan Coffeemaker Couch Countertop Dishwasher Fireplace Fountain Gas_stove Jacuzzi Kitchen_dining_room_table Microwave_oven Mirror Oven Pillow Porch Refrigerator Shower Sink Sofa_bed Stairs Swimming_pool Television Toilet Towel Tree_house Washing_machine Wine_rack --type_csv test <br/>"
   ]
  }
 ],
 "metadata": {
  "kernelspec": {
   "display_name": "Python 3",
   "language": "python",
   "name": "python3"
  },
  "language_info": {
   "codemirror_mode": {
    "name": "ipython",
    "version": 3
   },
   "file_extension": ".py",
   "mimetype": "text/x-python",
   "name": "python",
   "nbconvert_exporter": "python",
   "pygments_lexer": "ipython3",
   "version": "3.7.6"
  }
 },
 "nbformat": 4,
 "nbformat_minor": 4
}
