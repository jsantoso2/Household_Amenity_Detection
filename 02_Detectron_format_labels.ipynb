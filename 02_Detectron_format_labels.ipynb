{
 "cells": [
  {
   "cell_type": "code",
   "execution_count": 1,
   "metadata": {},
   "outputs": [],
   "source": [
    "import pandas as pd\n",
    "import numpy as np\n",
    "import matplotlib.pyplot as plt\n",
    "import os\n",
    "import json\n",
    "from PIL import Image"
   ]
  },
  {
   "cell_type": "code",
   "execution_count": 2,
   "metadata": {},
   "outputs": [],
   "source": [
    "data_path = os.path.join(os.getcwd(), 'dataset')\n",
    "train_path = os.path.join(data_path, 'train')\n",
    "test_path = os.path.join(data_path, 'test')\n",
    "val_path = os.path.join(data_path, 'validation')"
   ]
  },
  {
   "cell_type": "code",
   "execution_count": 3,
   "metadata": {},
   "outputs": [],
   "source": [
    "# get all image sizes\n",
    "train_size = pd.DataFrame()\n",
    "test_size = pd.DataFrame()\n",
    "val_size = pd.DataFrame()\n",
    "\n",
    "# train\n",
    "imageid = []\n",
    "width = []\n",
    "height = []\n",
    "\n",
    "for img in os.listdir(train_path):\n",
    "    im=Image.open(os.path.join(train_path) + '\\\\' + img)\n",
    "    size = im.size\n",
    "    imageid.append(img.split('.')[0])\n",
    "    width.append(size[0])\n",
    "    height.append(size[1])\n",
    "\n",
    "train_size['ImageID'] = imageid\n",
    "train_size['ImageID'] = train_size['ImageID'].astype(str)\n",
    "train_size['width'] = width\n",
    "train_size['height'] = height\n",
    "    \n",
    "\n",
    "# test\n",
    "imageid = []\n",
    "width = []\n",
    "height = []\n",
    "\n",
    "for img in os.listdir(test_path):\n",
    "    im=Image.open(os.path.join(test_path) + '\\\\' + img)\n",
    "    size = im.size\n",
    "    imageid.append(img.split('.')[0])\n",
    "    width.append(size[0])\n",
    "    height.append(size[1])\n",
    "\n",
    "test_size['ImageID'] = imageid\n",
    "test_size['ImageID'] = test_size['ImageID'].astype(str)\n",
    "test_size['width'] = width\n",
    "test_size['height'] = height\n",
    "    \n",
    "# val\n",
    "imageid = []\n",
    "width = []\n",
    "height = []\n",
    "\n",
    "for img in os.listdir(val_path):\n",
    "    im=Image.open(os.path.join(val_path) + '\\\\' + img)\n",
    "    size = im.size\n",
    "    imageid.append(img.split('.')[0])\n",
    "    width.append(size[0])\n",
    "    height.append(size[1])\n",
    "\n",
    "val_size['ImageID'] = imageid\n",
    "val_size['ImageID'] = val_size['ImageID'].astype(str)\n",
    "val_size['width'] = width\n",
    "val_size['height'] = height"
   ]
  },
  {
   "cell_type": "code",
   "execution_count": 4,
   "metadata": {},
   "outputs": [
    {
     "data": {
      "text/html": [
       "<div>\n",
       "<style scoped>\n",
       "    .dataframe tbody tr th:only-of-type {\n",
       "        vertical-align: middle;\n",
       "    }\n",
       "\n",
       "    .dataframe tbody tr th {\n",
       "        vertical-align: top;\n",
       "    }\n",
       "\n",
       "    .dataframe thead th {\n",
       "        text-align: right;\n",
       "    }\n",
       "</style>\n",
       "<table border=\"1\" class=\"dataframe\">\n",
       "  <thead>\n",
       "    <tr style=\"text-align: right;\">\n",
       "      <th></th>\n",
       "      <th>ImageID</th>\n",
       "      <th>width</th>\n",
       "      <th>height</th>\n",
       "    </tr>\n",
       "  </thead>\n",
       "  <tbody>\n",
       "    <tr>\n",
       "      <th>0</th>\n",
       "      <td>0000615b5a80f660</td>\n",
       "      <td>1024</td>\n",
       "      <td>768</td>\n",
       "    </tr>\n",
       "    <tr>\n",
       "      <th>1</th>\n",
       "      <td>0000727e23603def</td>\n",
       "      <td>1024</td>\n",
       "      <td>768</td>\n",
       "    </tr>\n",
       "    <tr>\n",
       "      <th>2</th>\n",
       "      <td>000077165b72a53b</td>\n",
       "      <td>768</td>\n",
       "      <td>1024</td>\n",
       "    </tr>\n",
       "    <tr>\n",
       "      <th>3</th>\n",
       "      <td>000085351f54575c</td>\n",
       "      <td>1024</td>\n",
       "      <td>768</td>\n",
       "    </tr>\n",
       "    <tr>\n",
       "      <th>4</th>\n",
       "      <td>0000b9fcba019d36</td>\n",
       "      <td>1024</td>\n",
       "      <td>768</td>\n",
       "    </tr>\n",
       "  </tbody>\n",
       "</table>\n",
       "</div>"
      ],
      "text/plain": [
       "            ImageID  width  height\n",
       "0  0000615b5a80f660   1024     768\n",
       "1  0000727e23603def   1024     768\n",
       "2  000077165b72a53b    768    1024\n",
       "3  000085351f54575c   1024     768\n",
       "4  0000b9fcba019d36   1024     768"
      ]
     },
     "execution_count": 4,
     "metadata": {},
     "output_type": "execute_result"
    }
   ],
   "source": [
    "train_size.head()"
   ]
  },
  {
   "cell_type": "code",
   "execution_count": 5,
   "metadata": {},
   "outputs": [],
   "source": [
    "# read and merge size to full dataframe\n",
    "train = pd.read_csv('train_labels.csv')\n",
    "train['ImageID'] = train['ImageID'].astype(str)\n",
    "train = pd.merge(train, train_size, left_on ='ImageID', right_on = 'ImageID', how = 'left')\n",
    "\n",
    "test = pd.read_csv('test_labels.csv')\n",
    "test['ImageID'] = test['ImageID'].astype(str)\n",
    "test = pd.merge(test, test_size, left_on ='ImageID', right_on = 'ImageID', how = 'left')\n",
    "\n",
    "val = pd.read_csv('val_labels.csv')\n",
    "val['ImageID'] = val['ImageID'].astype(str)\n",
    "val = pd.merge(val, val_size, left_on ='ImageID', right_on = 'ImageID', how = 'left')"
   ]
  },
  {
   "cell_type": "code",
   "execution_count": 6,
   "metadata": {},
   "outputs": [],
   "source": [
    "# to create an index of classes that maps classes to numbers alphabetically\n",
    "unique_classes = np.unique(train['Label'])\n",
    "unique_classes.sort()\n",
    "unique_df = pd.DataFrame()\n",
    "unique_df['Label'] = unique_classes\n",
    "unique_df['ClassNum'] = range(len(unique_classes))\n",
    "\n",
    "# merge with train, test, val\n",
    "train = pd.merge(train, unique_df, left_on='Label', right_on ='Label', how='left')\n",
    "test = pd.merge(test, unique_df, left_on='Label', right_on ='Label', how='left')\n",
    "val = pd.merge(val, unique_df, left_on='Label', right_on ='Label', how='left')"
   ]
  },
  {
   "cell_type": "code",
   "execution_count": 7,
   "metadata": {},
   "outputs": [
    {
     "data": {
      "text/html": [
       "<div>\n",
       "<style scoped>\n",
       "    .dataframe tbody tr th:only-of-type {\n",
       "        vertical-align: middle;\n",
       "    }\n",
       "\n",
       "    .dataframe tbody tr th {\n",
       "        vertical-align: top;\n",
       "    }\n",
       "\n",
       "    .dataframe thead th {\n",
       "        text-align: right;\n",
       "    }\n",
       "</style>\n",
       "<table border=\"1\" class=\"dataframe\">\n",
       "  <thead>\n",
       "    <tr style=\"text-align: right;\">\n",
       "      <th></th>\n",
       "      <th>ImageID</th>\n",
       "      <th>Source</th>\n",
       "      <th>LabelName</th>\n",
       "      <th>Confidence</th>\n",
       "      <th>XMin</th>\n",
       "      <th>XMax</th>\n",
       "      <th>YMin</th>\n",
       "      <th>YMax</th>\n",
       "      <th>IsOccluded</th>\n",
       "      <th>IsTruncated</th>\n",
       "      <th>IsGroupOf</th>\n",
       "      <th>IsDepiction</th>\n",
       "      <th>IsInside</th>\n",
       "      <th>Label</th>\n",
       "      <th>width</th>\n",
       "      <th>height</th>\n",
       "      <th>ClassNum</th>\n",
       "    </tr>\n",
       "  </thead>\n",
       "  <tbody>\n",
       "    <tr>\n",
       "      <th>0</th>\n",
       "      <td>0000615b5a80f660</td>\n",
       "      <td>xclick</td>\n",
       "      <td>/m/0b3fp9</td>\n",
       "      <td>1</td>\n",
       "      <td>0.100000</td>\n",
       "      <td>0.701875</td>\n",
       "      <td>0.508333</td>\n",
       "      <td>0.622500</td>\n",
       "      <td>1</td>\n",
       "      <td>0</td>\n",
       "      <td>0</td>\n",
       "      <td>0</td>\n",
       "      <td>0</td>\n",
       "      <td>Countertop</td>\n",
       "      <td>1024</td>\n",
       "      <td>768</td>\n",
       "      <td>6</td>\n",
       "    </tr>\n",
       "    <tr>\n",
       "      <th>1</th>\n",
       "      <td>0000615b5a80f660</td>\n",
       "      <td>xclick</td>\n",
       "      <td>/m/0b3fp9</td>\n",
       "      <td>1</td>\n",
       "      <td>0.781875</td>\n",
       "      <td>0.999375</td>\n",
       "      <td>0.494167</td>\n",
       "      <td>0.894167</td>\n",
       "      <td>0</td>\n",
       "      <td>0</td>\n",
       "      <td>0</td>\n",
       "      <td>0</td>\n",
       "      <td>0</td>\n",
       "      <td>Countertop</td>\n",
       "      <td>1024</td>\n",
       "      <td>768</td>\n",
       "      <td>6</td>\n",
       "    </tr>\n",
       "    <tr>\n",
       "      <th>2</th>\n",
       "      <td>00011aec5d7324f4</td>\n",
       "      <td>xclick</td>\n",
       "      <td>/m/0b3fp9</td>\n",
       "      <td>1</td>\n",
       "      <td>0.305625</td>\n",
       "      <td>0.994375</td>\n",
       "      <td>0.620915</td>\n",
       "      <td>0.999066</td>\n",
       "      <td>0</td>\n",
       "      <td>0</td>\n",
       "      <td>0</td>\n",
       "      <td>0</td>\n",
       "      <td>0</td>\n",
       "      <td>Countertop</td>\n",
       "      <td>1024</td>\n",
       "      <td>685</td>\n",
       "      <td>6</td>\n",
       "    </tr>\n",
       "    <tr>\n",
       "      <th>3</th>\n",
       "      <td>0003fd45db1c5906</td>\n",
       "      <td>xclick</td>\n",
       "      <td>/m/0b3fp9</td>\n",
       "      <td>1</td>\n",
       "      <td>0.259804</td>\n",
       "      <td>0.998366</td>\n",
       "      <td>0.243464</td>\n",
       "      <td>0.436274</td>\n",
       "      <td>0</td>\n",
       "      <td>0</td>\n",
       "      <td>0</td>\n",
       "      <td>0</td>\n",
       "      <td>0</td>\n",
       "      <td>Countertop</td>\n",
       "      <td>1024</td>\n",
       "      <td>1024</td>\n",
       "      <td>6</td>\n",
       "    </tr>\n",
       "    <tr>\n",
       "      <th>4</th>\n",
       "      <td>0003fd45db1c5906</td>\n",
       "      <td>xclick</td>\n",
       "      <td>/m/0b3fp9</td>\n",
       "      <td>1</td>\n",
       "      <td>0.465686</td>\n",
       "      <td>0.996732</td>\n",
       "      <td>0.341503</td>\n",
       "      <td>0.818627</td>\n",
       "      <td>1</td>\n",
       "      <td>1</td>\n",
       "      <td>0</td>\n",
       "      <td>0</td>\n",
       "      <td>0</td>\n",
       "      <td>Countertop</td>\n",
       "      <td>1024</td>\n",
       "      <td>1024</td>\n",
       "      <td>6</td>\n",
       "    </tr>\n",
       "  </tbody>\n",
       "</table>\n",
       "</div>"
      ],
      "text/plain": [
       "            ImageID  Source  LabelName  Confidence      XMin      XMax  \\\n",
       "0  0000615b5a80f660  xclick  /m/0b3fp9           1  0.100000  0.701875   \n",
       "1  0000615b5a80f660  xclick  /m/0b3fp9           1  0.781875  0.999375   \n",
       "2  00011aec5d7324f4  xclick  /m/0b3fp9           1  0.305625  0.994375   \n",
       "3  0003fd45db1c5906  xclick  /m/0b3fp9           1  0.259804  0.998366   \n",
       "4  0003fd45db1c5906  xclick  /m/0b3fp9           1  0.465686  0.996732   \n",
       "\n",
       "       YMin      YMax  IsOccluded  IsTruncated  IsGroupOf  IsDepiction  \\\n",
       "0  0.508333  0.622500           1            0          0            0   \n",
       "1  0.494167  0.894167           0            0          0            0   \n",
       "2  0.620915  0.999066           0            0          0            0   \n",
       "3  0.243464  0.436274           0            0          0            0   \n",
       "4  0.341503  0.818627           1            1          0            0   \n",
       "\n",
       "   IsInside       Label  width  height  ClassNum  \n",
       "0         0  Countertop   1024     768         6  \n",
       "1         0  Countertop   1024     768         6  \n",
       "2         0  Countertop   1024     685         6  \n",
       "3         0  Countertop   1024    1024         6  \n",
       "4         0  Countertop   1024    1024         6  "
      ]
     },
     "execution_count": 7,
     "metadata": {},
     "output_type": "execute_result"
    }
   ],
   "source": [
    "train.head()"
   ]
  },
  {
   "cell_type": "markdown",
   "metadata": {},
   "source": [
    "Open Images Description: <br/>\n",
    "Reference: https://storage.googleapis.com/openimages/web/download.html <br/>\n",
    "\n",
    " - ImageID: the image this box lives in. <br/>\n",
    " - Source: indicates how the box was made:\n",
    "     - xclick are manually drawn boxes using the method presented in [1], were the annotators click on the four extreme points of the object. In V6 we release the actual 4 extreme points for all xclick boxes in train (13M), see below.\n",
    "    - activemil are boxes produced using an enhanced version of the method [2]. These are human verified to be accurate at IoU>0.7.\n",
    " - LabelName: the MID of the object class this box belongs to. <br/>\n",
    " - Confidence: a dummy value, always 1. <br/>\n",
    " - XMin, XMax, YMin, YMax: coordinates of the box, in normalized image coordinates. XMin is in [0,1], where 0 is the leftmost pixel, and 1 is the rightmost pixel in the image. Y coordinates go from the top pixel (0) to the bottom pixel (1).\n",
    " - XClick1X, XClick2X, XClick3X, XClick4X, XClick1Y, XClick2Y, XClick3Y, XClick4Y: normalized image coordinates (as XMin, etc.) of the four extreme points of the object that produced the box using [1] in the case of xclick boxes. Dummy values of -1 in the case of activemil boxes."
   ]
  },
  {
   "cell_type": "markdown",
   "metadata": {},
   "source": [
    "Detectron2 labels <br/>\n",
    "\n",
    "- file_name: the full path to the image file. Will apply rotation and flipping if the image has such exif information.\n",
    "- height, width: integer. The shape of image.\n",
    "- image_id (str or int): a unique id that identifies this image. Used during evaluation to identify the images, but a dataset may use it for different purposes.\n",
    "- annotations (list[dict]): each dict corresponds to annotations of one instance in this image. Required by instance detection/segmentation or keypoint detection tasks.\n",
    "\n",
    "Images with empty annotations will by default be removed from training, but can be included using DATALOADER.FILTER_EMPTY_ANNOTATIONS.\n",
    "\n",
    "Each dict contains the following keys, of which bbox,bbox_mode and category_id are required:\n",
    "\n",
    "    - bbox (list[float]): list of 4 numbers representing the bounding box of the instance.\n",
    "    - bbox_mode (int): the format of bbox. It must be a member of structures.BoxMode. Currently supports: BoxMode.XYXY_ABS, BoxMode.XYWH_ABS.\n",
    "    - category_id (int): an integer in the range [0, num_categories) representing the category label. The value num_categories is reserved to represent the “background” category, if applicable.\n",
    "    - segmentation (list[list[float]] or dict): the segmentation mask of the instance.\n",
    "        - If list[list[float]], it represents a list of polygons, one for each connected component of the object. Each list[float] is one simple polygon in the format of [x1, y1, ..., xn, yn]. The Xs and Ys are either relative coordinates in [0, 1], or absolute coordinates, depend on whether “bbox_mode” is relative.\n",
    "        - If dict, it represents the per-pixel segmentation mask in COCO’s RLE format. The dict should have keys “size” and “counts”. You can convert a uint8 segmentation mask of 0s and 1s into RLE format by pycocotools.mask.encode(np.asarray(mask, order=\"F\")).\n",
    "    - keypoints (list[float]): in the format of [x1, y1, v1,…, xn, yn, vn]. v[i] means the visibility of this keypoint. n must be equal to the number of keypoint categories. The Xs and Ys are either relative coordinates in [0, 1], or absolute coordinates, depend on whether “bbox_mode” is relative. <br/>\n",
    "    Note that the coordinate annotations in COCO format are integers in range [0, H-1 or W-1]. By default, detectron2 adds 0.5 to absolute keypoint coordinates to convert them from discrete pixel indices to floating point coordinates. <br/>\n",
    "    - iscrowd: 0 (default) or 1. Whether this instance is labeled as COCO’s “crowd region”. Don’t include this field if you don’t know what it means.\n",
    "\n",
    "- sem_seg_file_name: the full path to the ground truth semantic segmentation file. Required by semantic segmentation task. It should be an image whose pixel values are integer labels."
   ]
  },
  {
   "cell_type": "code",
   "execution_count": 8,
   "metadata": {},
   "outputs": [],
   "source": [
    "train_images = np.unique(train['ImageID'])\n",
    "test_images = np.unique(test['ImageID'])\n",
    "val_images = np.unique(val['ImageID'])\n",
    "\n",
    "train_labels = []\n",
    "test_labels = []\n",
    "val_labels = []"
   ]
  },
  {
   "cell_type": "code",
   "execution_count": 9,
   "metadata": {},
   "outputs": [],
   "source": [
    "def transform_to_labels(img, data_type='train'):\n",
    "    # type and filter with only that image\n",
    "    if data_type == 'train':\n",
    "        data = train[train['ImageID'] == img]\n",
    "    elif data_type == 'test':\n",
    "        data = test[test['ImageID'] == img]\n",
    "    elif data_type == 'val':\n",
    "        data = val[val['ImageID'] == img]\n",
    "    \n",
    "    filename = os.path.join(os.getcwd(), 'dataset', data_type, img + '.jpg')\n",
    "    width = int(data.iloc[0].loc['width'])\n",
    "    height = int(data.iloc[0].loc['height'])    \n",
    "    \n",
    "    annotations = []\n",
    "    \n",
    "    for ind in range(data.shape[0]):\n",
    "                            #bbox: [x0,y0, x1, y1]\n",
    "        annotations.append({'bbox': [ data.iloc[ind].loc['XMin'] * width, data.iloc[ind].loc['YMin'] * height,\n",
    "                                      data.iloc[ind].loc['XMax'] * width, data.iloc[ind].loc['YMax'] * height ],\n",
    "                                      #(data.iloc[ind].loc['XMax'] - data.iloc[ind].loc['XMin']) * width, \n",
    "                                      #(data.iloc[ind].loc['YMax'] - data.iloc[ind].loc['YMin']) * height ],\n",
    "                            'bbox_mode': 0,  ## NEED TO be replaced with BoxMode.XYXY_ABS\n",
    "                            'category_id': int(data.iloc[ind].loc['ClassNum']) #,\n",
    "                            #'segmentation': [],\n",
    "                            #'area': (data.iloc[ind].loc['XMax'] - data.iloc[ind].loc['XMin']) * width * (data.iloc[ind].loc['YMax'] - data.iloc[ind].loc['YMin']) * height,\n",
    "                            #'iscrowd': 0\n",
    "                            })\n",
    "    \n",
    "    # append labels\n",
    "    if data_type == 'train':\n",
    "        train_labels.append({'file_name': filename, 'height': height, 'width': width, \n",
    "                             'image_id': img, 'annotations': annotations})\n",
    "    elif data_type == 'test':\n",
    "        test_labels.append({'file_name': filename, 'height': height, 'width': width, \n",
    "                     'image_id': img, 'annotations': annotations})\n",
    "    elif data_type == 'val':\n",
    "        val_labels.append({'file_name': filename, 'height': height, 'width': width, \n",
    "                            'image_id': img, 'annotations': annotations})"
   ]
  },
  {
   "cell_type": "code",
   "execution_count": 10,
   "metadata": {},
   "outputs": [],
   "source": [
    "for img in train_images:\n",
    "    train_labels.append(transform_to_labels(img, 'train'))\n",
    "    \n",
    "for img in test_images:\n",
    "    test_labels.append(transform_to_labels(img, 'test'))\n",
    "\n",
    "for img in val_images:\n",
    "    val_labels.append(transform_to_labels(img, 'val'))\n",
    "    \n",
    "\n",
    "train_labels = [i for i in train_labels if i is not None]\n",
    "test_labels = [i for i in test_labels if i is not None]\n",
    "val_labels = [i for i in val_labels if i is not None]"
   ]
  },
  {
   "cell_type": "code",
   "execution_count": 11,
   "metadata": {},
   "outputs": [
    {
     "data": {
      "text/plain": [
       "{'file_name': 'C:\\\\Users\\\\Jonathan Santoso\\\\workspace3\\\\Personal Projects\\\\Amenity detection\\\\dataset\\\\val\\\\007f71665b0812a7.jpg',\n",
       " 'height': 768,\n",
       " 'width': 1024,\n",
       " 'image_id': '007f71665b0812a7',\n",
       " 'annotations': [{'bbox': [0.0, 0.5952, 1024.0, 768.0],\n",
       "   'bbox_mode': 0,\n",
       "   'category_id': 24}]}"
      ]
     },
     "execution_count": 11,
     "metadata": {},
     "output_type": "execute_result"
    }
   ],
   "source": [
    "val_labels[0]"
   ]
  },
  {
   "cell_type": "code",
   "execution_count": 12,
   "metadata": {},
   "outputs": [],
   "source": [
    "with open('train.json', 'w') as fout:\n",
    "    json.dump(train_labels , fout)\n",
    "\n",
    "with open('test.json', 'w') as fout:\n",
    "    json.dump(test_labels , fout)\n",
    "\n",
    "with open('val.json', 'w') as fout:\n",
    "    json.dump(val_labels , fout)"
   ]
  },
  {
   "cell_type": "code",
   "execution_count": 13,
   "metadata": {},
   "outputs": [
    {
     "data": {
      "image/png": "[encoded data removed]",
      "text/plain": [
       "<Figure size 432x288 with 1 Axes>"
      ]
     },
     "metadata": {
      "needs_background": "light"
     },
     "output_type": "display_data"
    }
   ],
   "source": [
    "# Distribution of classes for each class\n",
    "train_plot = train[['ImageID', 'Label']]\n",
    "train_plot = train_plot.drop_duplicates()\n",
    "\n",
    "train_plot['Label'].value_counts().plot(kind='bar')\n",
    "plt.xlabel('Distribution of Train Data')\n",
    "plt.ylabel('Counts')\n",
    "plt.title('Distribution of Train Data');"
   ]
  },
  {
   "cell_type": "code",
   "execution_count": 14,
   "metadata": {},
   "outputs": [
    {
     "data": {
      "image/png": "[encoded data removed]",
      "text/plain": [
       "<Figure size 432x288 with 1 Axes>"
      ]
     },
     "metadata": {
      "needs_background": "light"
     },
     "output_type": "display_data"
    }
   ],
   "source": [
    "# Distribution of classes for each class\n",
    "val_plot = val[['ImageID', 'Label']]\n",
    "val_plot = val_plot.drop_duplicates()\n",
    "\n",
    "val_plot['Label'].value_counts().plot(kind='bar')\n",
    "plt.xlabel('Distribution of Val Data')\n",
    "plt.ylabel('Counts')\n",
    "plt.title('Distribution of Val Data');"
   ]
  },
  {
   "cell_type": "code",
   "execution_count": 15,
   "metadata": {},
   "outputs": [
    {
     "data": {
      "image/png": "[encoded data removed]",
      "text/plain": [
       "<Figure size 432x288 with 1 Axes>"
      ]
     },
     "metadata": {
      "needs_background": "light"
     },
     "output_type": "display_data"
    }
   ],
   "source": [
    "# Distribution of classes for each class\n",
    "test_plot = test[['ImageID', 'Label']]\n",
    "test_plot = test_plot.drop_duplicates()\n",
    "\n",
    "test_plot['Label'].value_counts().plot(kind='bar')\n",
    "plt.xlabel('Distribution of Test Data')\n",
    "plt.ylabel('Counts')\n",
    "plt.title('Distribution of Test Data');"
   ]
  },
  {
   "cell_type": "markdown",
   "metadata": {},
   "source": [
    "Swimming pool tend to have the largest train, val, test data. Dishwasher has the lowest data. Distribution of data instances are quite similar."
   ]
  },
  {
   "cell_type": "code",
   "execution_count": null,
   "metadata": {},
   "outputs": [],
   "source": []
  },
  {
   "cell_type": "code",
   "execution_count": null,
   "metadata": {},
   "outputs": [],
   "source": []
  }
 ],
 "metadata": {
  "kernelspec": {
   "display_name": "Python 3",
   "language": "python",
   "name": "python3"
  },
  "language_info": {
   "codemirror_mode": {
    "name": "ipython",
    "version": 3
   },
   "file_extension": ".py",
   "mimetype": "text/x-python",
   "name": "python",
   "nbconvert_exporter": "python",
   "pygments_lexer": "ipython3",
   "version": "3.7.6"
  }
 },
 "nbformat": 4,
 "nbformat_minor": 4
}
